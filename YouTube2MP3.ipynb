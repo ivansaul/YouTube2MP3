{
 "cells": [
  {
   "cell_type": "code",
   "execution_count": 4,
   "id": "00060c8f",
   "metadata": {},
   "outputs": [],
   "source": [
    "import os\n",
    "import re\n",
    "import toml\n",
    "from pytube import YouTube\n",
    "from pytube import extract\n",
    "from pytube import Playlist"
   ]
  },
  {
   "cell_type": "code",
   "execution_count": 11,
   "id": "6ac651bc",
   "metadata": {},
   "outputs": [],
   "source": [
    "def download_video(url, output_path):\n",
    "    yt = YouTube(url)\n",
    "    title=yt.title\n",
    "    title=re.sub(r\"[^a-zA-Z0-9]+\", ' ', title)\n",
    "    #video=yt.streams.get_highest_resolution().get_audio_only()\n",
    "    video=yt.streams.get_audio_only()\n",
    "    #video=yt.streams.filter(only_audio=True).first()\n",
    "    video.download(output_path= output_path, filename=title+'.mp3')\n",
    "    print('Downloaded!!')\n",
    "\n",
    "def get_id(url):\n",
    "    return extract.video_id(url)\n",
    "\n",
    "def make_playlist_folder(name):    \n",
    "    #make folder\n",
    "    import errno\n",
    "    try:\n",
    "        os.makedirs(f'mp3/{name}')\n",
    "    except OSError as e:\n",
    "        if e.errno != errno.EEXIST:\n",
    "            raise"
   ]
  },
  {
   "cell_type": "code",
   "execution_count": 5,
   "id": "331127d9",
   "metadata": {},
   "outputs": [],
   "source": [
    "with open('playlist.txt') as f:\n",
    "    urls_pl = f.readlines()\n",
    "    \n",
    "urls_pl = [x.strip() for x in urls_pl]\n",
    "urls_pl = list(filter(None, urls_pl))"
   ]
  },
  {
   "cell_type": "code",
   "execution_count": 12,
   "id": "3ef915a8",
   "metadata": {},
   "outputs": [
    {
     "name": "stdout",
     "output_type": "stream",
     "text": [
      "Downloaded!!\n",
      "Downloaded!!\n",
      "Downloaded!!\n"
     ]
    }
   ],
   "source": [
    "for url_pl in urls_pl:\n",
    "    #playlist object\n",
    "    pl = Playlist(url_pl)\n",
    "    #playlist name \n",
    "    play_list = pl.title\n",
    "    \n",
    "    #check folder\n",
    "    make_playlist_folder(play_list)\n",
    "    \n",
    "    #playlist videos\n",
    "    urls=pl.video_urls\n",
    "    for url in urls:\n",
    "        download_video(url, f\"mp3/{play_list}\")"
   ]
  }
 ],
 "metadata": {
  "kernelspec": {
   "display_name": "Python 3 (ipykernel)",
   "language": "python",
   "name": "python3"
  },
  "language_info": {
   "codemirror_mode": {
    "name": "ipython",
    "version": 3
   },
   "file_extension": ".py",
   "mimetype": "text/x-python",
   "name": "python",
   "nbconvert_exporter": "python",
   "pygments_lexer": "ipython3",
   "version": "3.7.12"
  }
 },
 "nbformat": 4,
 "nbformat_minor": 5
}
